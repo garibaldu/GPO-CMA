{
 "cells": [
  {
   "cell_type": "code",
   "execution_count": 112,
   "metadata": {
    "collapsed": false
   },
   "outputs": [],
   "source": [
    "%matplotlib inline\n",
    "import math, time\n",
    "import numpy as np\n",
    "from numpy import random as rng\n",
    "from matplotlib import pyplot as plt\n",
    "from sklearn.gaussian_process import GaussianProcess\n",
    "from scipy import stats\n",
    "from matplotlib import cm\n",
    "np.set_printoptions(precision = 4)\n",
    "plt.rcParams['figure.figsize'] = (10.0, 8.0)\n",
    "plt.rcParams['image.interpolation'] = 'nearest'\n",
    "plt.rcParams['image.cmap'] = 'gray'\n",
    "rng.seed(int(1000*time.clock()))"
   ]
  },
  {
   "cell_type": "code",
   "execution_count": 113,
   "metadata": {
    "collapsed": true
   },
   "outputs": [],
   "source": [
    "# Standard normal distribution functions\n",
    "phi = stats.distributions.norm().pdf\n",
    "PHI = stats.distributions.norm().cdf\n",
    "PHIinv = stats.distributions.norm().ppf\n",
    "\n",
    "# A few constants\n",
    "lim = 8.\n",
    "\n",
    "def g(x):\n",
    "    \"\"\"The function to predict \"\"\"\n",
    "    val = 5.0 * np.log(np.abs(x[:,0])+0.25)  - 0.01*np.power(lim/2+x[:,1],2.0)\n",
    "    return -val"
   ]
  },
  {
   "cell_type": "code",
   "execution_count": 114,
   "metadata": {
    "collapsed": false
   },
   "outputs": [],
   "source": [
    "def random_rotation(C, angle):\n",
    "    invC = np.linalg.inv(C)\n",
    "    R = np.array([[math.cos(angle),-math.sin(angle)],[math.sin(angle),math.cos(angle)]]) # rotation matrix\n",
    "    invC = np.dot(np.linalg.inv(R), np.dot(invC, R))\n",
    "    C = np.linalg.inv(invC)\n",
    "    return invC, C\n",
    "\n",
    "diag_val, off_diag_val = 5.0, 4.5\n",
    "C = np.array([[diag_val, off_diag_val], [off_diag_val,diag_val]])\n",
    "Mu = 2*rng.normal(size=2) \n",
    "#print ('Covariance matrix: \\n %s' % str(C))\n",
    "angle = rng.random() * math.pi\n",
    "C, invC = random_rotation(C, angle)\n",
    "#print ('Covariance matrix: \\n %s' % str(C))\n",
    "X = 0.1*lim * rng.multivariate_normal(Mu, C, 10)"
   ]
  },
  {
   "cell_type": "code",
   "execution_count": 115,
   "metadata": {
    "collapsed": false
   },
   "outputs": [],
   "source": [
    "# Observations\n",
    "y = g(X)"
   ]
  },
  {
   "cell_type": "code",
   "execution_count": 116,
   "metadata": {
    "collapsed": false
   },
   "outputs": [
    {
     "name": "stdout",
     "output_type": "stream",
     "text": [
      "\t [0.1, 0.1]\n",
      "-------------------------------------\n",
      "\t [[ 0.1  0.1]]\n",
      "and now  [[ 0.0537  0.01  ]]\n",
      "best-fit theta = 0.0536636821676\n"
     ]
    }
   ],
   "source": [
    "# Instantiate and fit a Gaussian Process Model\n",
    "gp = GaussianProcess(corr='squared_exponential',\n",
    "                     theta0=[0.1] * 2, thetaL=[1e-2] * 2,\n",
    "                     thetaU=[100] * 2, nugget=0.005, optimizer='Welch')\n",
    "\n",
    "\n",
    "#gp = GaussianProcess(theta0=0.1, thetaL=.001, thetaU=1., corr='squared_exponential')\n",
    "params = gp.get_params()\n",
    "print('\\t', params['theta0'])\n",
    "# Fit the GP model to the data, performing maximum likelihood estimation\n",
    "gp.fit(X, y)\n",
    "print('-------------------------------------')\n",
    "\n",
    "params = gp.get_params()\n",
    "print('\\t', params['theta0']) # bullshit, the params don't seem to change at all!\n",
    "print('and now ', gp.theta_)\n",
    "print (\"best-fit theta =\", gp.theta_[0, 0])"
   ]
  },
  {
   "cell_type": "code",
   "execution_count": 117,
   "metadata": {
    "collapsed": false
   },
   "outputs": [],
   "source": [
    "# Evaluate real function, the prediction and its MSE on a grid\n",
    "res = 100\n",
    "x1, x2 = np.meshgrid(np.linspace(- lim, lim, res),\n",
    "                     np.linspace(- lim, lim, res))\n",
    "xx = np.vstack([x1.reshape(x1.size), x2.reshape(x2.size)]).T\n",
    "# xx has res^2 rows (one for each pixel), and 2 columns (the x and y vals)\n",
    "y_true = g(xx)  # the true function\n",
    "y_pred, MSE = gp.predict(xx, eval_MSE=True)  # the gp predicted means and variances\n",
    "# Those will be res^2 rows, 1 column\n",
    "sigma = np.sqrt(MSE)\n",
    "# now reconvert them from to \"image\" shapes\n",
    "y_true = y_true.reshape((res, res))\n",
    "y_pred = y_pred.reshape((res, res))\n",
    "sigma = sigma.reshape((res, res))\n",
    "u = (y_pred - np.mean(y))/sigma\n",
    "\n",
    "best_so_far = np.max(y)\n",
    "u = (y_pred - best_so_far)/sigma\n",
    "\n",
    "#Phi = 0.5*erf(u/sqrt(2)) + 0.5\n",
    "#phi = 1.0/sqrt(2*pi) * exp(-pow(u,2)/2.0)\n",
    "\n",
    "EI = sigma*(u*PHI(u)  + phi(u))\n",
    "EI = EI.reshape((res, res))"
   ]
  },
  {
   "cell_type": "code",
   "execution_count": 118,
   "metadata": {
    "collapsed": false
   },
   "outputs": [],
   "source": [
    "def plot_it(ax, f, txt):\n",
    "    ax.axes.set_aspect('equal')\n",
    "    #plt.xticks([])\n",
    "    #plt.yticks([])\n",
    "    ax.set_xticklabels([])\n",
    "    ax.set_yticklabels([])\n",
    "    plt.xlabel('$x_1$')\n",
    "    plt.ylabel('$x_2$')\n",
    "    cax = plt.contourf(f, cmap=cm.gray, alpha=0.65, extent=(- lim, lim, - lim, lim))\n",
    "    #plt.clabel(cax, inline=1, fontsize=10)\n",
    "\n",
    "    plt.title(txt)\n",
    "    norm = plt.matplotlib.colors.Normalize(vmin=0., vmax=0.9)\n",
    "    #cb = plt.colorbar(cax, norm=norm)\n",
    "    #cb.set_label('${\\\\rm \\mathbb{P}}\\left[\\widehat{G}(\\mathbf{x}) \\leq 0\\\\right]$')\n",
    "\n",
    "    #plt.plot(X[y <= 0, 0], X[y <= 0, 1], 'r.', markersize=12)\n",
    "    #plt.plot(X[y > 0, 0], X[y > 0, 1], 'b.', markersize=12)\n",
    "    \n",
    "    normed_y = y - y.min()\n",
    "    normed_y = (normed_y / normed_y.max())\n",
    "    for i,z in enumerate(X):\n",
    "        plt.plot(z[0], z[1], '.', markersize=12, color=[1-normed_y[i],0,normed_y[i]])    "
   ]
  },
  {
   "cell_type": "code",
   "execution_count": 119,
   "metadata": {
    "collapsed": false,
    "scrolled": true
   },
   "outputs": [
    {
     "data": {
      "image/png": "[encoded data removed]",
      "text/plain": [
       "<matplotlib.figure.Figure at 0xad98384c>"
      ]
     },
     "metadata": {},
     "output_type": "display_data"
    },
    {
     "name": "stdout",
     "output_type": "stream",
     "text": [
      "Wrote test87.png\n"
     ]
    }
   ],
   "source": [
    "# Get ready to plot the predictions etc.\n",
    "plt.clf()\n",
    "fig = plt.figure(1)\n",
    "#--------------------------------------\n",
    "ax = fig.add_subplot(221)\n",
    "plot_it(ax, y_true, 'truth')\n",
    "#--------------------------------------\n",
    "ax = fig.add_subplot(222)\n",
    "plot_it(ax, y_pred, 'mean')\n",
    "#--------------------------------------\n",
    "ax = fig.add_subplot(223)\n",
    "plot_it(ax, sigma, 'sigma')\n",
    "#--------------------------------------\n",
    "ax = fig.add_subplot(224)\n",
    "plot_it(ax, EI, 'Expected Impr')\n",
    "\n",
    "best = xx[np.argmax(EI)]\n",
    "plt.plot(best[0], best[1],'*y',markersize=12)\n",
    "\n",
    "#--------------------------------------------\n",
    "plt.show()\n",
    "filename = ('test%d.png' % rng.randint(100))\n",
    "fig.savefig(filename)\n",
    "print ('Wrote %s' % filename)"
   ]
  },
  {
   "cell_type": "code",
   "execution_count": null,
   "metadata": {
    "collapsed": true
   },
   "outputs": [],
   "source": []
  }
 ],
 "metadata": {
  "kernelspec": {
   "display_name": "Python 3",
   "language": "python",
   "name": "python3"
  },
  "language_info": {
   "codemirror_mode": {
    "name": "ipython",
    "version": 3
   },
   "file_extension": ".py",
   "mimetype": "text/x-python",
   "name": "python",
   "nbconvert_exporter": "python",
   "pygments_lexer": "ipython3",
   "version": "3.4.3"
  }
 },
 "nbformat": 4,
 "nbformat_minor": 0
}
